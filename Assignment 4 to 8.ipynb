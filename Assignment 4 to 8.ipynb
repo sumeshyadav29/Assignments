{
 "cells": [
  {
   "cell_type": "code",
   "execution_count": 1,
   "id": "e2ed2d07",
   "metadata": {},
   "outputs": [
    {
     "data": {
      "text/plain": [
       "11"
      ]
     },
     "execution_count": 1,
     "metadata": {},
     "output_type": "execute_result"
    }
   ],
   "source": [
    "5+6\n"
   ]
  },
  {
   "cell_type": "code",
   "execution_count": 4,
   "id": "ffc1ac01",
   "metadata": {},
   "outputs": [
    {
     "name": "stdout",
     "output_type": "stream",
     "text": [
      "0\n",
      "1\n",
      "2\n",
      "3\n"
     ]
    }
   ],
   "source": [
    "x=0\n",
    "while (x<4):\n",
    "    print(x)\n",
    "    x=x+1"
   ]
  },
  {
   "cell_type": "code",
   "execution_count": 9,
   "id": "deed0dc1",
   "metadata": {},
   "outputs": [
    {
     "name": "stdout",
     "output_type": "stream",
     "text": [
      "[1, 2, 3, 4, 5, 6, 7, 8, 9, 10]\n"
     ]
    }
   ],
   "source": [
    "i=1\n",
    "l1=[]\n",
    "while i<11:\n",
    "    l1.append(i)\n",
    "    i=i+1\n",
    "print(l1)"
   ]
  },
  {
   "cell_type": "code",
   "execution_count": 11,
   "id": "b3b87bd5",
   "metadata": {},
   "outputs": [
    {
     "name": "stdout",
     "output_type": "stream",
     "text": [
      "1\n",
      "3\n",
      "5\n",
      "7\n",
      "9\n",
      "11\n",
      "13\n",
      "15\n",
      "17\n",
      "19\n"
     ]
    }
   ],
   "source": [
    "for a in range(1,20,2):\n",
    "    print(a)"
   ]
  },
  {
   "cell_type": "code",
   "execution_count": 12,
   "id": "c5a4158c",
   "metadata": {},
   "outputs": [
    {
     "data": {
      "text/plain": [
       "[0, 1, 2, 3, 4, 5, 6, 7, 8]"
      ]
     },
     "execution_count": 12,
     "metadata": {},
     "output_type": "execute_result"
    }
   ],
   "source": [
    "list(range(9))"
   ]
  },
  {
   "cell_type": "code",
   "execution_count": 17,
   "id": "cb28156e",
   "metadata": {},
   "outputs": [],
   "source": [
    "L2=list(range(50))"
   ]
  },
  {
   "cell_type": "code",
   "execution_count": 19,
   "id": "3cad3755",
   "metadata": {},
   "outputs": [
    {
     "name": "stdout",
     "output_type": "stream",
     "text": [
      "even numbers are [0, 2, 4, 6, 8, 10, 12, 14, 16, 18, 20, 22, 24, 26, 28, 30, 32, 34, 36, 38, 40, 42, 44, 46, 48]\n",
      "odd numbers are [1, 3, 5, 7, 9, 11, 13, 15, 17, 19, 21, 23, 25, 27, 29, 31, 33, 35, 37, 39, 41, 43, 45, 47, 49]\n"
     ]
    }
   ],
   "source": [
    "\n",
    "\n",
    "l3=[]\n",
    "l4=[]\n",
    "for s in range(50):\n",
    "    if s%2==0:\n",
    "        l3.append(s)\n",
    "    elif s%2==1:\n",
    "        l4.append(s)\n",
    "print(\"even numbers are\",l3)\n",
    "print(\"odd numbers are\",l4)"
   ]
  },
  {
   "cell_type": "code",
   "execution_count": 14,
   "id": "1af050de",
   "metadata": {},
   "outputs": [],
   "source": [
    "s2=list(range(10))"
   ]
  },
  {
   "cell_type": "code",
   "execution_count": 15,
   "id": "c1bbb499",
   "metadata": {},
   "outputs": [
    {
     "data": {
      "text/plain": [
       "[0, 1, 2, 3, 4, 5, 6, 7, 8, 9]"
      ]
     },
     "execution_count": 15,
     "metadata": {},
     "output_type": "execute_result"
    }
   ],
   "source": [
    "s2"
   ]
  },
  {
   "cell_type": "code",
   "execution_count": 22,
   "id": "8801268e",
   "metadata": {},
   "outputs": [
    {
     "name": "stdout",
     "output_type": "stream",
     "text": [
      "5\n",
      "10\n",
      "15\n",
      "20\n",
      "25\n",
      "30\n",
      "35\n",
      "40\n",
      "45\n",
      "50\n",
      "55\n",
      "60\n",
      "65\n",
      "70\n",
      "75\n",
      "80\n",
      "85\n",
      "90\n",
      "95\n"
     ]
    }
   ],
   "source": [
    "for d in range(5,100,5):\n",
    "    print(d)"
   ]
  },
  {
   "cell_type": "code",
   "execution_count": 28,
   "id": "f8301377",
   "metadata": {},
   "outputs": [
    {
     "name": "stdout",
     "output_type": "stream",
     "text": [
      "enter a number5\n",
      "15\n"
     ]
    }
   ],
   "source": [
    "q=0\n",
    "w=int(input(\"enter a number\"))\n",
    "for e in range(w+1):\n",
    "    q=q+e\n",
    "print(q)\n"
   ]
  },
  {
   "cell_type": "code",
   "execution_count": 29,
   "id": "045549f3",
   "metadata": {},
   "outputs": [
    {
     "data": {
      "text/plain": [
       "15"
      ]
     },
     "execution_count": 29,
     "metadata": {},
     "output_type": "execute_result"
    }
   ],
   "source": [
    "1+2+3+4+5\n"
   ]
  },
  {
   "cell_type": "code",
   "execution_count": 31,
   "id": "77c68a22",
   "metadata": {},
   "outputs": [
    {
     "name": "stdout",
     "output_type": "stream",
     "text": [
      "enter a number for its table5\n",
      "1 times 5 is 5\n",
      "2 times 5 is 10\n",
      "3 times 5 is 15\n",
      "4 times 5 is 20\n",
      "5 times 5 is 25\n",
      "6 times 5 is 30\n",
      "7 times 5 is 35\n",
      "8 times 5 is 40\n",
      "9 times 5 is 45\n",
      "10 times 5 is 50\n"
     ]
    }
   ],
   "source": [
    "t=int(input(\"enter a number for its table\"))\n",
    "u=0\n",
    "for y in range(1,11):\n",
    "    u=t*y\n",
    "    print(y,'times',t,'is',u)"
   ]
  },
  {
   "cell_type": "code",
   "execution_count": 32,
   "id": "ff327d6c",
   "metadata": {},
   "outputs": [],
   "source": [
    "vec=[2,4,9,8,7,14]"
   ]
  },
  {
   "cell_type": "code",
   "execution_count": 33,
   "id": "b8253759",
   "metadata": {},
   "outputs": [],
   "source": [
    "l2=[x*2 for x in vec]"
   ]
  },
  {
   "cell_type": "code",
   "execution_count": 34,
   "id": "feb349fc",
   "metadata": {},
   "outputs": [
    {
     "data": {
      "text/plain": [
       "[4, 8, 18, 16, 14, 28]"
      ]
     },
     "execution_count": 34,
     "metadata": {},
     "output_type": "execute_result"
    }
   ],
   "source": [
    "l2"
   ]
  },
  {
   "cell_type": "code",
   "execution_count": 35,
   "id": "1636d512",
   "metadata": {},
   "outputs": [
    {
     "name": "stdout",
     "output_type": "stream",
     "text": [
      "9\n",
      "8\n",
      "7\n",
      "6\n",
      "5\n",
      "4\n",
      "3\n",
      "2\n",
      "1\n",
      "0\n"
     ]
    }
   ],
   "source": [
    "for o in reversed(range(10)):\n",
    "    print(o)"
   ]
  },
  {
   "cell_type": "code",
   "execution_count": 1,
   "id": "3bc4186e",
   "metadata": {},
   "outputs": [],
   "source": [
    "def sq(x):\n",
    "    return x*x\n",
    "    "
   ]
  },
  {
   "cell_type": "code",
   "execution_count": 2,
   "id": "859fd851",
   "metadata": {},
   "outputs": [
    {
     "name": "stdout",
     "output_type": "stream",
     "text": [
      "25\n"
     ]
    }
   ],
   "source": [
    "print(sq(5))"
   ]
  },
  {
   "cell_type": "code",
   "execution_count": 4,
   "id": "5fd0e1e4",
   "metadata": {},
   "outputs": [],
   "source": [
    "def abs(num):\n",
    "    if num>=0:\n",
    "        return num\n",
    "    else:\n",
    "        return -num\n"
   ]
  },
  {
   "cell_type": "code",
   "execution_count": 7,
   "id": "0213e269",
   "metadata": {},
   "outputs": [
    {
     "name": "stdout",
     "output_type": "stream",
     "text": [
      "4\n"
     ]
    }
   ],
   "source": [
    "print(abs(-4))"
   ]
  },
  {
   "cell_type": "code",
   "execution_count": 8,
   "id": "872fc138",
   "metadata": {},
   "outputs": [],
   "source": [
    "def my_fun():\n",
    "    x=10\n",
    "    print(\"value inside function:\",x)"
   ]
  },
  {
   "cell_type": "code",
   "execution_count": 9,
   "id": "31c2206c",
   "metadata": {},
   "outputs": [],
   "source": [
    "x=20"
   ]
  },
  {
   "cell_type": "code",
   "execution_count": 10,
   "id": "1c52cacb",
   "metadata": {},
   "outputs": [
    {
     "name": "stdout",
     "output_type": "stream",
     "text": [
      "value inside function: 10\n"
     ]
    }
   ],
   "source": [
    "my_fun()"
   ]
  },
  {
   "cell_type": "code",
   "execution_count": 11,
   "id": "8a3bbc88",
   "metadata": {},
   "outputs": [
    {
     "data": {
      "text/plain": [
       "20"
      ]
     },
     "execution_count": 11,
     "metadata": {},
     "output_type": "execute_result"
    }
   ],
   "source": [
    "x"
   ]
  },
  {
   "cell_type": "code",
   "execution_count": 13,
   "id": "77c5b81e",
   "metadata": {},
   "outputs": [
    {
     "data": {
      "text/plain": [
       "[0, 1, 4, 9, 16, 25, 36, 49, 64, 81]"
      ]
     },
     "execution_count": 13,
     "metadata": {},
     "output_type": "execute_result"
    }
   ],
   "source": [
    "list(map(lambda x:x**2, range(10)))"
   ]
  },
  {
   "cell_type": "code",
   "execution_count": 17,
   "id": "ba63accb",
   "metadata": {},
   "outputs": [],
   "source": [
    "seq=[10,2,8,7,5,4,3,11,0,1]\n",
    "res= list(map(lambda x:x**3, seq))"
   ]
  },
  {
   "cell_type": "code",
   "execution_count": 18,
   "id": "347232c6",
   "metadata": {},
   "outputs": [
    {
     "data": {
      "text/plain": [
       "[1000, 8, 512, 343, 125, 64, 27, 1331, 0, 1]"
      ]
     },
     "execution_count": 18,
     "metadata": {},
     "output_type": "execute_result"
    }
   ],
   "source": [
    "res"
   ]
  },
  {
   "cell_type": "code",
   "execution_count": 19,
   "id": "6e3d4a43",
   "metadata": {},
   "outputs": [
    {
     "name": "stdout",
     "output_type": "stream",
     "text": [
      "[10, 8, 7, 5, 11]\n"
     ]
    }
   ],
   "source": [
    "fil=filter(lambda x:x>4,seq)\n",
    "print(list(fil))"
   ]
  },
  {
   "cell_type": "code",
   "execution_count": 20,
   "id": "ff12675f",
   "metadata": {},
   "outputs": [],
   "source": [
    "def squares():\n",
    "    sq=[]\n",
    "    for x in range(10):\n",
    "        sq.append(x**2)\n",
    "    print(sq)"
   ]
  },
  {
   "cell_type": "code",
   "execution_count": 21,
   "id": "1e3f6890",
   "metadata": {},
   "outputs": [
    {
     "name": "stdout",
     "output_type": "stream",
     "text": [
      "[0, 1, 4, 9, 16, 25, 36, 49, 64, 81]\n"
     ]
    }
   ],
   "source": [
    "squares()"
   ]
  },
  {
   "cell_type": "code",
   "execution_count": 24,
   "id": "6a4341c1",
   "metadata": {},
   "outputs": [],
   "source": [
    "def math():\n",
    "    x=int(input(\"enter first number\"))\n",
    "    y=int(input(\"enter second number\"))\n",
    "    if x*y<1000:\n",
    "        print(x*y)\n",
    "    else:\n",
    "        print(x+y)"
   ]
  },
  {
   "cell_type": "code",
   "execution_count": 25,
   "id": "d1127d90",
   "metadata": {},
   "outputs": [
    {
     "name": "stdout",
     "output_type": "stream",
     "text": [
      "enter first number5\n",
      "enter second number6\n",
      "30\n"
     ]
    }
   ],
   "source": [
    "math()"
   ]
  },
  {
   "cell_type": "code",
   "execution_count": 26,
   "id": "30a6af1f",
   "metadata": {},
   "outputs": [
    {
     "name": "stdout",
     "output_type": "stream",
     "text": [
      "enter first number89\n",
      "enter second number456\n",
      "545\n"
     ]
    }
   ],
   "source": [
    "math()"
   ]
  },
  {
   "cell_type": "code",
   "execution_count": null,
   "id": "80d9e73e",
   "metadata": {},
   "outputs": [],
   "source": []
  }
 ],
 "metadata": {
  "kernelspec": {
   "display_name": "Python 3 (ipykernel)",
   "language": "python",
   "name": "python3"
  },
  "language_info": {
   "codemirror_mode": {
    "name": "ipython",
    "version": 3
   },
   "file_extension": ".py",
   "mimetype": "text/x-python",
   "name": "python",
   "nbconvert_exporter": "python",
   "pygments_lexer": "ipython3",
   "version": "3.10.4"
  }
 },
 "nbformat": 4,
 "nbformat_minor": 5
}
