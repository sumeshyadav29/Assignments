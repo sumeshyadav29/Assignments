{
 "cells": [
  {
   "cell_type": "code",
   "execution_count": 1,
   "id": "6bc72cf0",
   "metadata": {},
   "outputs": [
    {
     "data": {
      "text/plain": [
       "12"
      ]
     },
     "execution_count": 1,
     "metadata": {},
     "output_type": "execute_result"
    }
   ],
   "source": [
    "8+4"
   ]
  },
  {
   "cell_type": "code",
   "execution_count": 2,
   "id": "e3a9218b",
   "metadata": {},
   "outputs": [
    {
     "data": {
      "text/plain": [
       "80"
      ]
     },
     "execution_count": 2,
     "metadata": {},
     "output_type": "execute_result"
    }
   ],
   "source": [
    "16*5"
   ]
  },
  {
   "cell_type": "code",
   "execution_count": 3,
   "id": "580ae011",
   "metadata": {},
   "outputs": [
    {
     "data": {
      "text/plain": [
       "20"
      ]
     },
     "execution_count": 3,
     "metadata": {},
     "output_type": "execute_result"
    }
   ],
   "source": [
    "50-5*6"
   ]
  },
  {
   "cell_type": "code",
   "execution_count": 4,
   "id": "b4018638",
   "metadata": {},
   "outputs": [
    {
     "data": {
      "text/plain": [
       "5.0"
      ]
     },
     "execution_count": 4,
     "metadata": {},
     "output_type": "execute_result"
    }
   ],
   "source": [
    "(50-5*6)/4"
   ]
  },
  {
   "cell_type": "code",
   "execution_count": 5,
   "id": "16d193d0",
   "metadata": {},
   "outputs": [],
   "source": [
    "# This is my first command.\n",
    "# It prints the phrase \"hello world\"."
   ]
  },
  {
   "cell_type": "code",
   "execution_count": 6,
   "id": "d572ba30",
   "metadata": {},
   "outputs": [
    {
     "name": "stdout",
     "output_type": "stream",
     "text": [
      "Hello World of python\n"
     ]
    }
   ],
   "source": [
    "greeting=\"Hello World of python\"\n",
    "print(greeting)"
   ]
  },
  {
   "cell_type": "code",
   "execution_count": 9,
   "id": "c3f03ab2",
   "metadata": {},
   "outputs": [
    {
     "name": "stdout",
     "output_type": "stream",
     "text": [
      "20\n",
      "the value of width= 20\n",
      "value= 900\n",
      "45\n"
     ]
    }
   ],
   "source": [
    "width=20\n",
    "height=5*9\n",
    "print(width)\n",
    "print(\"the value of width=\",width)\n",
    "print('value=',width*height)\n",
    "print(height)"
   ]
  },
  {
   "cell_type": "code",
   "execution_count": 10,
   "id": "cd8ba234",
   "metadata": {},
   "outputs": [
    {
     "name": "stdout",
     "output_type": "stream",
     "text": [
      "100.5\n",
      "0.125\n",
      "value= 12.5625\n"
     ]
    }
   ],
   "source": [
    "tax=12.5/100\n",
    "price=100.50\n",
    "price*tax\n",
    "print(price)\n",
    "print(tax)\n",
    "print('value=',tax*price)"
   ]
  },
  {
   "cell_type": "code",
   "execution_count": 11,
   "id": "d166fb01",
   "metadata": {},
   "outputs": [],
   "source": [
    "# String concatenation"
   ]
  },
  {
   "cell_type": "code",
   "execution_count": 12,
   "id": "ba7df48b",
   "metadata": {},
   "outputs": [
    {
     "data": {
      "text/plain": [
       "'elonmusk'"
      ]
     },
     "execution_count": 12,
     "metadata": {},
     "output_type": "execute_result"
    }
   ],
   "source": [
    "S1= \"elon\"\n",
    "S2= 'musk'\n",
    "magic=S1+S2\n",
    "magic"
   ]
  },
  {
   "cell_type": "code",
   "execution_count": 13,
   "id": "6a710023",
   "metadata": {},
   "outputs": [
    {
     "data": {
      "text/plain": [
       "'elon musk'"
      ]
     },
     "execution_count": 13,
     "metadata": {},
     "output_type": "execute_result"
    }
   ],
   "source": [
    "full_name= S1+\" \"+S2\n",
    "full_name"
   ]
  },
  {
   "cell_type": "code",
   "execution_count": 14,
   "id": "c1186c64",
   "metadata": {},
   "outputs": [],
   "source": [
    "#user input"
   ]
  },
  {
   "cell_type": "code",
   "execution_count": 15,
   "id": "a7967f85",
   "metadata": {},
   "outputs": [
    {
     "name": "stdout",
     "output_type": "stream",
     "text": [
      "hey, what's up?sg\n",
      "you said:sg\n"
     ]
    }
   ],
   "source": [
    "prompt=\"hey, what's up?\"\n",
    "user_input=input(prompt)\n",
    "print(\"you said:\"+user_input)"
   ]
  },
  {
   "cell_type": "code",
   "execution_count": 17,
   "id": "d63aaf93",
   "metadata": {},
   "outputs": [
    {
     "name": "stdout",
     "output_type": "stream",
     "text": [
      "enter the number to be doubled5\n",
      "10\n"
     ]
    }
   ],
   "source": [
    "N= input(\"enter the number to be doubled\")\n",
    "D=int(N)*2\n",
    "print(D)"
   ]
  },
  {
   "cell_type": "code",
   "execution_count": 19,
   "id": "0c4dfac9",
   "metadata": {},
   "outputs": [
    {
     "name": "stdout",
     "output_type": "stream",
     "text": [
      "enter the first number5\n",
      "enter the second number6\n",
      "the product of two muners is= 30\n"
     ]
    }
   ],
   "source": [
    "one= int(input(\"enter the first number\"))\n",
    "two=int(input(\"enter the second number\"))\n",
    "print(\"the product of two muners is=\",one*two)"
   ]
  },
  {
   "cell_type": "code",
   "execution_count": 20,
   "id": "1e008172",
   "metadata": {},
   "outputs": [
    {
     "name": "stdout",
     "output_type": "stream",
     "text": [
      "enter the pricnipal1000\n",
      "enter the rate of interest10\n",
      "enter the period2\n",
      "the simple interest will be= 200.0\n"
     ]
    }
   ],
   "source": [
    "p=int(input(\"enter the pricnipal\"))\n",
    "r=int(input(\"enter the rate of interest\"))\n",
    "t=int(input(\"enter the period\"))\n",
    "print(\"the simple interest will be=\",(p*r*t)/100)"
   ]
  },
  {
   "cell_type": "raw",
   "id": "6652d92d",
   "metadata": {},
   "source": [
    "str= \" the height of mount everest is 8314m\""
   ]
  },
  {
   "cell_type": "code",
   "execution_count": 21,
   "id": "69a446e0",
   "metadata": {},
   "outputs": [
    {
     "data": {
      "text/plain": [
       "37"
      ]
     },
     "execution_count": 21,
     "metadata": {},
     "output_type": "execute_result"
    }
   ],
   "source": [
    "str= \" the height of mount everest is 8314m\"\n",
    "len(str)"
   ]
  },
  {
   "cell_type": "code",
   "execution_count": 22,
   "id": "1b71eeb2",
   "metadata": {},
   "outputs": [],
   "source": [
    "# Assignment 2"
   ]
  },
  {
   "cell_type": "code",
   "execution_count": 27,
   "id": "3b5aef17",
   "metadata": {},
   "outputs": [],
   "source": [
    "squares=[1,4,9,16,25]"
   ]
  },
  {
   "cell_type": "code",
   "execution_count": 28,
   "id": "86fb2c57",
   "metadata": {},
   "outputs": [
    {
     "data": {
      "text/plain": [
       "25"
      ]
     },
     "execution_count": 28,
     "metadata": {},
     "output_type": "execute_result"
    }
   ],
   "source": [
    "squares[-1]"
   ]
  },
  {
   "cell_type": "code",
   "execution_count": 29,
   "id": "94e71477",
   "metadata": {},
   "outputs": [
    {
     "data": {
      "text/plain": [
       "[9, 16, 25]"
      ]
     },
     "execution_count": 29,
     "metadata": {},
     "output_type": "execute_result"
    }
   ],
   "source": [
    "squares[-3:]"
   ]
  },
  {
   "cell_type": "code",
   "execution_count": 30,
   "id": "d23d9cd8",
   "metadata": {},
   "outputs": [
    {
     "data": {
      "text/plain": [
       "[1, 4, 9, 16, 25]"
      ]
     },
     "execution_count": 30,
     "metadata": {},
     "output_type": "execute_result"
    }
   ],
   "source": [
    "squares[:]"
   ]
  },
  {
   "cell_type": "code",
   "execution_count": 31,
   "id": "5cf50c98",
   "metadata": {},
   "outputs": [
    {
     "data": {
      "text/plain": [
       "[1, 4, 9, 16, 25, 36, 49, 64, 81, 100]"
      ]
     },
     "execution_count": 31,
     "metadata": {},
     "output_type": "execute_result"
    }
   ],
   "source": [
    "squares+[36,49,64,81,100]"
   ]
  },
  {
   "cell_type": "code",
   "execution_count": 32,
   "id": "388ff2c8",
   "metadata": {},
   "outputs": [],
   "source": [
    "cubes=[1,8,27,65,125]"
   ]
  },
  {
   "cell_type": "code",
   "execution_count": 33,
   "id": "71f590da",
   "metadata": {},
   "outputs": [],
   "source": [
    "cubes[3]=64"
   ]
  },
  {
   "cell_type": "code",
   "execution_count": 34,
   "id": "90500510",
   "metadata": {},
   "outputs": [
    {
     "data": {
      "text/plain": [
       "[1, 8, 27, 64, 125]"
      ]
     },
     "execution_count": 34,
     "metadata": {},
     "output_type": "execute_result"
    }
   ],
   "source": [
    "cubes\n"
   ]
  },
  {
   "cell_type": "code",
   "execution_count": 35,
   "id": "09d6e445",
   "metadata": {},
   "outputs": [],
   "source": [
    "cubes.append(216)"
   ]
  },
  {
   "cell_type": "code",
   "execution_count": 36,
   "id": "eed40469",
   "metadata": {},
   "outputs": [],
   "source": [
    "cubes.append(7**3)"
   ]
  },
  {
   "cell_type": "code",
   "execution_count": 37,
   "id": "9b135c0d",
   "metadata": {},
   "outputs": [
    {
     "data": {
      "text/plain": [
       "[1, 8, 27, 64, 125, 216, 343]"
      ]
     },
     "execution_count": 37,
     "metadata": {},
     "output_type": "execute_result"
    }
   ],
   "source": [
    "cubes"
   ]
  },
  {
   "cell_type": "code",
   "execution_count": 39,
   "id": "523f7de5",
   "metadata": {},
   "outputs": [],
   "source": [
    "letters=['a','b','c','d','e','f']"
   ]
  },
  {
   "cell_type": "code",
   "execution_count": 40,
   "id": "5771fcd0",
   "metadata": {},
   "outputs": [
    {
     "data": {
      "text/plain": [
       "['c', 'd', 'e']"
      ]
     },
     "execution_count": 40,
     "metadata": {},
     "output_type": "execute_result"
    }
   ],
   "source": [
    "letters[2:5]"
   ]
  },
  {
   "cell_type": "code",
   "execution_count": 41,
   "id": "54ca495a",
   "metadata": {},
   "outputs": [
    {
     "data": {
      "text/plain": [
       "6"
      ]
     },
     "execution_count": 41,
     "metadata": {},
     "output_type": "execute_result"
    }
   ],
   "source": [
    "len(letters)"
   ]
  },
  {
   "cell_type": "code",
   "execution_count": null,
   "id": "1d446b42",
   "metadata": {},
   "outputs": [],
   "source": [
    "fruits"
   ]
  }
 ],
 "metadata": {
  "kernelspec": {
   "display_name": "Python 3 (ipykernel)",
   "language": "python",
   "name": "python3"
  },
  "language_info": {
   "codemirror_mode": {
    "name": "ipython",
    "version": 3
   },
   "file_extension": ".py",
   "mimetype": "text/x-python",
   "name": "python",
   "nbconvert_exporter": "python",
   "pygments_lexer": "ipython3",
   "version": "3.9.12"
  }
 },
 "nbformat": 4,
 "nbformat_minor": 5
}
